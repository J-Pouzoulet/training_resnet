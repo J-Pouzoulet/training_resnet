{
 "cells": [
  {
   "cell_type": "code",
   "execution_count": 14,
   "metadata": {},
   "outputs": [],
   "source": [
    "#python train.py --model_name ResNet101 --labels vine grass --start_date 2021-03-01 --end_date 2021-08-01 --experiment_name experiment_test \n",
    "\n",
    "#import requests\n",
    "#from keras.applications import ResNet50\n",
    "#from keras.applications.resnet import decode_predictions, preprocess_input\n",
    "#from keras.preprocessing.image import load_img, img_to_array\n",
    "#import numpy as np\n",
    "import os\n",
    "import sys\n",
    "from dotenv import load_dotenv\n",
    "#import pandas as pd\n",
    "#from sklearn.model_selection import train_test_split\n",
    "#from datetime import datetime\n",
    "#from helpers import *\n",
    "from build_dataset import *\n",
    "from build_model import *\n",
    "import argparse\n",
    "from datetime import datetime\n",
    "import mlflow"
   ]
  },
  {
   "cell_type": "code",
   "execution_count": 15,
   "metadata": {},
   "outputs": [
    {
     "name": "stdout",
     "output_type": "stream",
     "text": [
      "Model 'ResNet50' found in tf.keras.applications.\n",
      "Base_model 'ResNet50' loaded successfully.\n",
      "New ResNet50 compiled successfully and is ready to be trained!\n"
     ]
    }
   ],
   "source": [
    "# We load the environment variables from the secret.env file\n",
    "load_dotenv()\n",
    "\n",
    "# We access environment variables using os.getenv()\n",
    "api_key = os.getenv(\"API_KEY\")\n",
    "api_url = os.getenv(\"API_URL\")\n",
    "mlflow_tracking_uri = os.getenv(\"MLFLOW_TRACKING_URI\")\n",
    "\n",
    "model_name = \"ResNet50\"\n",
    "# We compile the model\n",
    "model = compile_new_model(model_name)"
   ]
  },
  {
   "cell_type": "code",
   "execution_count": 16,
   "metadata": {},
   "outputs": [
    {
     "name": "stdout",
     "output_type": "stream",
     "text": [
      "Number of urls collected for vine: 1\n",
      "Number of urls collected for grass: 28\n",
      "Dataframe created successfully with shape : (29, 4)\n"
     ]
    }
   ],
   "source": [
    "image_dir = \"media\"\n",
    "labels = [\"vine\", \"grass\"]\n",
    "start_date = \"2021-03-01\"\n",
    "end_date = \"2021-05-01\"\n",
    "# We make the train and validation datasets\n",
    "image_urls = get_image_urls_with_multiple_labels(labels, start_date, end_date, api_key, api_url)\n",
    "# Download images and create a sample map\n",
    "df_sample_map = create_sample_map(image_urls)\n",
    "df_sample_map = download_images(df_sample_map, image_dir)"
   ]
  },
  {
   "cell_type": "code",
   "execution_count": 21,
   "metadata": {},
   "outputs": [
    {
     "name": "stdout",
     "output_type": "stream",
     "text": [
      "Preprocess_input function for 'ResNet50' loaded successfully.\n"
     ]
    }
   ],
   "source": [
    "train_dataset, val_dataset = create_train_val_datasets(df_sample_map,\n",
    "                              image_dir = 'media',\n",
    "                              model_name = model_name,\n",
    "                              )"
   ]
  },
  {
   "cell_type": "code",
   "execution_count": 22,
   "metadata": {},
   "outputs": [
    {
     "name": "stderr",
     "output_type": "stream",
     "text": [
      "2024-12-26 17:48:00.525330: I tensorflow/core/framework/local_rendezvous.cc:405] Local rendezvous is aborting with status: OUT_OF_RANGE: End of sequence\n"
     ]
    },
    {
     "data": {
      "text/html": [
       "<pre style=\"white-space:pre;overflow-x:auto;line-height:normal;font-family:Menlo,'DejaVu Sans Mono',consolas,'Courier New',monospace\"></pre>\n"
      ],
      "text/plain": []
     },
     "metadata": {},
     "output_type": "display_data"
    },
    {
     "name": "stdout",
     "output_type": "stream",
     "text": [
      "Epoch 1/3\n",
      "\u001b[1m5/5\u001b[0m \u001b[32m━━━━━━━━━━━━━━━━━━━━\u001b[0m\u001b[37m\u001b[0m \u001b[1m0s\u001b[0m 836ms/step - accuracy: 0.9683 - loss: 0.1100"
     ]
    },
    {
     "name": "stderr",
     "output_type": "stream",
     "text": [
      "WARNING:absl:You are saving your model as an HDF5 file via `model.save()` or `keras.saving.save_model(model)`. This file format is considered legacy. We recommend using instead the native Keras format, e.g. `model.save('my_model.keras')` or `keras.saving.save_model(model, 'my_model.keras')`. \n"
     ]
    },
    {
     "name": "stdout",
     "output_type": "stream",
     "text": [
      "\u001b[1m5/5\u001b[0m \u001b[32m━━━━━━━━━━━━━━━━━━━━\u001b[0m\u001b[37m\u001b[0m \u001b[1m6s\u001b[0m 1s/step - accuracy: 0.9667 - loss: 0.1211 - val_accuracy: 1.0000 - val_loss: 0.0000e+00\n",
      "Epoch 2/3\n",
      "\u001b[1m5/5\u001b[0m \u001b[32m━━━━━━━━━━━━━━━━━━━━\u001b[0m\u001b[37m\u001b[0m \u001b[1m4s\u001b[0m 753ms/step - accuracy: 1.0000 - loss: 0.0725 - val_accuracy: 1.0000 - val_loss: 0.0000e+00\n",
      "Epoch 3/3\n",
      "\u001b[1m5/5\u001b[0m \u001b[32m━━━━━━━━━━━━━━━━━━━━\u001b[0m\u001b[37m\u001b[0m \u001b[1m4s\u001b[0m 785ms/step - accuracy: 0.9778 - loss: 0.0451 - val_accuracy: 1.0000 - val_loss: 0.0000e+00\n",
      "\u001b[1m1/1\u001b[0m \u001b[32m━━━━━━━━━━━━━━━━━━━━\u001b[0m\u001b[37m\u001b[0m \u001b[1m0s\u001b[0m 196ms/step\n"
     ]
    }
   ],
   "source": [
    "# Convert DataFrame to JSON\n",
    "json_data = df_sample_map.to_json(orient=\"records\")\n",
    "\n",
    "experiment_name = \"experiment_test\"\n",
    "\n",
    "# We check if an experiment name is provided, if so we log the data to MLflow\n",
    "if experiment_name is not None:\n",
    "    \n",
    "    # We set the tracking URI\n",
    "    mlflow.set_tracking_uri(\"sqlite:///mlflow.db\")\n",
    "    \n",
    "    # We set the experiment name\n",
    "    mlflow.set_experiment(experiment_name)\n",
    "    \n",
    "    # Save JSON data to a file\n",
    "    with open(\"dataset_json.json\", \"w\") as f:\n",
    "        f.write(json_data)\n",
    "    \n",
    "    # We set the run name\n",
    "    run_name = f\"{model_name}_\"+datetime.now().strftime(\"%Y%m%d-%H%M%S\")\n",
    "    \n",
    "    # Start a new MLflow run\n",
    "    with mlflow.start_run() as run:\n",
    "        \n",
    "        # We train the model\n",
    "        number_of_epochs = 3\n",
    "        history = model.fit(train_dataset, validation_data=val_dataset, epochs=number_of_epochs)\n",
    "        \n",
    "        # Unable autologging\n",
    "        mlflow.tensorflow.autolog()\n",
    "        # Log other parameters    \n",
    "        mlflow.log_param(\"model_name\", model_name)\n",
    "        mlflow.log_param(\"labels\", labels)\n",
    "        mlflow.log_param(\"start_date\", start_date)\n",
    "        mlflow.log_param(\"end_date\", end_date)\n",
    "        # Log the dataset as artifact\n",
    "        mlflow.log_artifact(\"dataset_json.json\")\n",
    "        # For the other parameters and artifact we use the mlflow.tensorflow.autolog (but of course this could be customized if needed)'''"
   ]
  },
  {
   "cell_type": "code",
   "execution_count": 23,
   "metadata": {},
   "outputs": [],
   "source": [
    "# We end the MLflow run\n",
    "if experiment_name is not None:\n",
    "    mlflow.end_run()"
   ]
  }
 ],
 "metadata": {
  "kernelspec": {
   "display_name": "chouette_project",
   "language": "python",
   "name": "python3"
  },
  "language_info": {
   "codemirror_mode": {
    "name": "ipython",
    "version": 3
   },
   "file_extension": ".py",
   "mimetype": "text/x-python",
   "name": "python",
   "nbconvert_exporter": "python",
   "pygments_lexer": "ipython3",
   "version": "3.12.7"
  }
 },
 "nbformat": 4,
 "nbformat_minor": 2
}
