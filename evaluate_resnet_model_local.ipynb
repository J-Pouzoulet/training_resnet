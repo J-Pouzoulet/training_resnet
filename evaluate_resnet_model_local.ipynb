{
 "cells": [
  {
   "cell_type": "markdown",
   "metadata": {},
   "source": [
    "<div style=\"text-align: center;\">\n",
    "    <h1><strong>Evaluate a Resnet Model </strong></h1>\n",
    "    <h1><strong>Sqlite & Local Folder</strong></h1>\n",
    "</div> "
   ]
  },
  {
   "cell_type": "markdown",
   "metadata": {},
   "source": [
    "# Goal of the notebook:\n",
    "#### The purpose of the notebook is to load a Resnet model previously trained and to evaluate its performance  on a test dataset\n",
    "#### We assumed that the test dataset is generated according to the same approach than the one used to train the model (see train_resnet_model_local.ipynb or train_resnet_model_local.ipynb)\n",
    "#### Albeit images used for testing should not have been used during training for data leakage consideration (ie. no date overlap)\n",
    "#### Evaluation metrics displayed here are the ones that have been set while compiling the model before training (Loss, Accuracy, Precision and Recall)\n",
    "#### The notebook is meant to be used if the storage solution is set for <strong>Sqlite & Local Folder</strong>"
   ]
  },
  {
   "cell_type": "markdown",
   "metadata": {},
   "source": [
    "# Summary:\n",
    "### 1- Import of Packages and Dependencies\n",
    "### 2- Import Environment Variables\n",
    "### 3- Finding MLFlow experiments and runs \n",
    "### 4- Generate the test dataset\n",
    "### 5- Evaluate the model on the test dataset"
   ]
  },
  {
   "cell_type": "markdown",
   "metadata": {},
   "source": [
    "# 1- Import of Packages and Dependencies"
   ]
  },
  {
   "cell_type": "code",
   "execution_count": 1,
   "metadata": {},
   "outputs": [
    {
     "name": "stderr",
     "output_type": "stream",
     "text": [
      "2025-01-03 08:22:08.067939: I tensorflow/core/util/port.cc:153] oneDNN custom operations are on. You may see slightly different numerical results due to floating-point round-off errors from different computation orders. To turn them off, set the environment variable `TF_ENABLE_ONEDNN_OPTS=0`.\n",
      "2025-01-03 08:22:08.068344: I external/local_xla/xla/tsl/cuda/cudart_stub.cc:32] Could not find cuda drivers on your machine, GPU will not be used.\n",
      "2025-01-03 08:22:08.070454: I external/local_xla/xla/tsl/cuda/cudart_stub.cc:32] Could not find cuda drivers on your machine, GPU will not be used.\n",
      "2025-01-03 08:22:08.076293: E external/local_xla/xla/stream_executor/cuda/cuda_fft.cc:477] Unable to register cuFFT factory: Attempting to register factory for plugin cuFFT when one has already been registered\n",
      "WARNING: All log messages before absl::InitializeLog() is called are written to STDERR\n",
      "E0000 00:00:1735888928.085544   10260 cuda_dnn.cc:8310] Unable to register cuDNN factory: Attempting to register factory for plugin cuDNN when one has already been registered\n",
      "E0000 00:00:1735888928.088267   10260 cuda_blas.cc:1418] Unable to register cuBLAS factory: Attempting to register factory for plugin cuBLAS when one has already been registered\n",
      "2025-01-03 08:22:08.099202: I tensorflow/core/platform/cpu_feature_guard.cc:210] This TensorFlow binary is optimized to use available CPU instructions in performance-critical operations.\n",
      "To enable the following instructions: AVX2 AVX_VNNI FMA, in other operations, rebuild TensorFlow with the appropriate compiler flags.\n"
     ]
    }
   ],
   "source": [
    "import os\n",
    "from dotenv import load_dotenv\n",
    "from utils.build_dataset import *\n",
    "import mlflow"
   ]
  },
  {
   "cell_type": "markdown",
   "metadata": {},
   "source": [
    "# 2- Import Environment Variables"
   ]
  },
  {
   "cell_type": "code",
   "execution_count": 2,
   "metadata": {},
   "outputs": [],
   "source": [
    "# Load environment variables from the .env file\n",
    "load_dotenv()\n",
    "\n",
    "# Access environment variables using os.getenv() method\n",
    "# We need api_key and pai_url to connect to the API and get the data\n",
    "api_key = os.getenv(\"API_KEY\")\n",
    "api_url = os.getenv(\"API_URL\")"
   ]
  },
  {
   "cell_type": "markdown",
   "metadata": {},
   "source": [
    "# 3- Finding MLFlow experiments and runs  "
   ]
  },
  {
   "cell_type": "markdown",
   "metadata": {},
   "source": [
    "#### We first need to define the tracking URI for MLflow so that it can log the results"
   ]
  },
  {
   "cell_type": "code",
   "execution_count": 3,
   "metadata": {},
   "outputs": [],
   "source": [
    "# We first need to define the tracking URI for MLflow so that it can log the results\n",
    "tracking_uri=f\"sqlite:///mlflow.db\"\n",
    "mlflow.set_tracking_uri(tracking_uri)"
   ]
  },
  {
   "cell_type": "markdown",
   "metadata": {},
   "source": [
    "#### Now we can list our experiments and select the one we want to use"
   ]
  },
  {
   "cell_type": "code",
   "execution_count": 4,
   "metadata": {},
   "outputs": [
    {
     "name": "stdout",
     "output_type": "stream",
     "text": [
      "Experiment ID: 2\n",
      "Name: test\n",
      "Artifact Location: /home/jerome/code/J-Pouzoulet/training_resnet_v2/training_resnet/mlruns/2\n",
      "Lifecycle Stage: active\n",
      "------------------------------\n",
      "Experiment ID: 1\n",
      "Name: my_experiment_v22\n",
      "Artifact Location: /home/jerome/code/J-Pouzoulet/training_resnet_v2/training_resnet/mlruns\n",
      "Lifecycle Stage: active\n",
      "------------------------------\n",
      "Experiment ID: 0\n",
      "Name: Default\n",
      "Artifact Location: /home/jerome/code/J-Pouzoulet/training_resnet_v2/training_resnet/mlruns/0\n",
      "Lifecycle Stage: active\n",
      "------------------------------\n"
     ]
    }
   ],
   "source": [
    "# List all experiments\n",
    "experiments = mlflow.search_experiments()\n",
    "\n",
    "# Print the experiment details\n",
    "for experiment in experiments:\n",
    "    print(f\"Experiment ID: {experiment.experiment_id}\")\n",
    "    print(f\"Name: {experiment.name}\")\n",
    "    print(f\"Artifact Location: {experiment.artifact_location}\")\n",
    "    print(f\"Lifecycle Stage: {experiment.lifecycle_stage}\")\n",
    "    print(\"------------------------------\")"
   ]
  },
  {
   "cell_type": "markdown",
   "metadata": {},
   "source": [
    "#### Now we choose the ID of the experiment we want to log the results to"
   ]
  },
  {
   "cell_type": "code",
   "execution_count": 8,
   "metadata": {},
   "outputs": [
    {
     "data": {
      "text/html": [
       "<div>\n",
       "<style scoped>\n",
       "    .dataframe tbody tr th:only-of-type {\n",
       "        vertical-align: middle;\n",
       "    }\n",
       "\n",
       "    .dataframe tbody tr th {\n",
       "        vertical-align: top;\n",
       "    }\n",
       "\n",
       "    .dataframe thead th {\n",
       "        text-align: right;\n",
       "    }\n",
       "</style>\n",
       "<table border=\"1\" class=\"dataframe\">\n",
       "  <thead>\n",
       "    <tr style=\"text-align: right;\">\n",
       "      <th></th>\n",
       "      <th>run_id</th>\n",
       "      <th>experiment_id</th>\n",
       "      <th>status</th>\n",
       "      <th>artifact_uri</th>\n",
       "      <th>start_time</th>\n",
       "      <th>end_time</th>\n",
       "      <th>metrics.val_recall</th>\n",
       "      <th>metrics.val_loss</th>\n",
       "      <th>metrics.accuracy</th>\n",
       "      <th>metrics.recall</th>\n",
       "      <th>...</th>\n",
       "      <th>tags.mlflow.source.type</th>\n",
       "      <th>tags.mlflow.gitRepoURL</th>\n",
       "      <th>tags.mlflow.project.backend</th>\n",
       "      <th>tags.mlflow.user</th>\n",
       "      <th>tags.mlflow.project.env</th>\n",
       "      <th>tags.mlflow.project.entryPoint</th>\n",
       "      <th>tags.mlflow.runName</th>\n",
       "      <th>tags.mlflow.log-model.history</th>\n",
       "      <th>tags.mlflow.source.git.repoURL</th>\n",
       "      <th>tags.mlflow.source.git.commit</th>\n",
       "    </tr>\n",
       "  </thead>\n",
       "  <tbody>\n",
       "    <tr>\n",
       "      <th>0</th>\n",
       "      <td>49ecfd90cba74fc9801a6d7a89a85d09</td>\n",
       "      <td>2</td>\n",
       "      <td>FAILED</td>\n",
       "      <td>/home/jerome/code/J-Pouzoulet/training_resnet_...</td>\n",
       "      <td>2025-01-02 21:47:30.716000+00:00</td>\n",
       "      <td>2025-01-02 21:48:37.629000+00:00</td>\n",
       "      <td>1.0</td>\n",
       "      <td>0.000024</td>\n",
       "      <td>1.0</td>\n",
       "      <td>1.0</td>\n",
       "      <td>...</td>\n",
       "      <td>PROJECT</td>\n",
       "      <td>git@github.com:J-Pouzoulet/training_resnet.git</td>\n",
       "      <td>local</td>\n",
       "      <td>jerome</td>\n",
       "      <td>virtualenv</td>\n",
       "      <td>main</td>\n",
       "      <td>merciful-squid-306</td>\n",
       "      <td>[{\"run_id\": \"49ecfd90cba74fc9801a6d7a89a85d09\"...</td>\n",
       "      <td>git@github.com:J-Pouzoulet/training_resnet.git</td>\n",
       "      <td>933e8320f7dc4e6fec468cd9436350df003bcf7a</td>\n",
       "    </tr>\n",
       "    <tr>\n",
       "      <th>1</th>\n",
       "      <td>84b0ec45ef6841b0b0c385171e011702</td>\n",
       "      <td>2</td>\n",
       "      <td>FAILED</td>\n",
       "      <td>/home/jerome/code/J-Pouzoulet/training_resnet_...</td>\n",
       "      <td>2025-01-02 21:44:51.608000+00:00</td>\n",
       "      <td>2025-01-02 21:46:01.348000+00:00</td>\n",
       "      <td>1.0</td>\n",
       "      <td>0.000009</td>\n",
       "      <td>1.0</td>\n",
       "      <td>1.0</td>\n",
       "      <td>...</td>\n",
       "      <td>PROJECT</td>\n",
       "      <td>git@github.com:J-Pouzoulet/training_resnet.git</td>\n",
       "      <td>local</td>\n",
       "      <td>jerome</td>\n",
       "      <td>virtualenv</td>\n",
       "      <td>main</td>\n",
       "      <td>chill-hare-491</td>\n",
       "      <td>[{\"run_id\": \"84b0ec45ef6841b0b0c385171e011702\"...</td>\n",
       "      <td>git@github.com:J-Pouzoulet/training_resnet.git</td>\n",
       "      <td>933e8320f7dc4e6fec468cd9436350df003bcf7a</td>\n",
       "    </tr>\n",
       "    <tr>\n",
       "      <th>2</th>\n",
       "      <td>5f8c32e982a44593bcde9f722d86acaa</td>\n",
       "      <td>2</td>\n",
       "      <td>FAILED</td>\n",
       "      <td>/home/jerome/code/J-Pouzoulet/training_resnet_...</td>\n",
       "      <td>2025-01-02 21:39:07.899000+00:00</td>\n",
       "      <td>2025-01-02 21:40:13.172000+00:00</td>\n",
       "      <td>1.0</td>\n",
       "      <td>0.000007</td>\n",
       "      <td>1.0</td>\n",
       "      <td>1.0</td>\n",
       "      <td>...</td>\n",
       "      <td>PROJECT</td>\n",
       "      <td>git@github.com:J-Pouzoulet/training_resnet.git</td>\n",
       "      <td>local</td>\n",
       "      <td>jerome</td>\n",
       "      <td>virtualenv</td>\n",
       "      <td>main</td>\n",
       "      <td>bouncy-shrike-608</td>\n",
       "      <td>[{\"run_id\": \"5f8c32e982a44593bcde9f722d86acaa\"...</td>\n",
       "      <td>git@github.com:J-Pouzoulet/training_resnet.git</td>\n",
       "      <td>933e8320f7dc4e6fec468cd9436350df003bcf7a</td>\n",
       "    </tr>\n",
       "  </tbody>\n",
       "</table>\n",
       "<p>3 rows × 62 columns</p>\n",
       "</div>"
      ],
      "text/plain": [
       "                             run_id experiment_id  status  \\\n",
       "0  49ecfd90cba74fc9801a6d7a89a85d09             2  FAILED   \n",
       "1  84b0ec45ef6841b0b0c385171e011702             2  FAILED   \n",
       "2  5f8c32e982a44593bcde9f722d86acaa             2  FAILED   \n",
       "\n",
       "                                        artifact_uri  \\\n",
       "0  /home/jerome/code/J-Pouzoulet/training_resnet_...   \n",
       "1  /home/jerome/code/J-Pouzoulet/training_resnet_...   \n",
       "2  /home/jerome/code/J-Pouzoulet/training_resnet_...   \n",
       "\n",
       "                        start_time                         end_time  \\\n",
       "0 2025-01-02 21:47:30.716000+00:00 2025-01-02 21:48:37.629000+00:00   \n",
       "1 2025-01-02 21:44:51.608000+00:00 2025-01-02 21:46:01.348000+00:00   \n",
       "2 2025-01-02 21:39:07.899000+00:00 2025-01-02 21:40:13.172000+00:00   \n",
       "\n",
       "   metrics.val_recall  metrics.val_loss  metrics.accuracy  metrics.recall  \\\n",
       "0                 1.0          0.000024               1.0             1.0   \n",
       "1                 1.0          0.000009               1.0             1.0   \n",
       "2                 1.0          0.000007               1.0             1.0   \n",
       "\n",
       "   ...  tags.mlflow.source.type  \\\n",
       "0  ...                  PROJECT   \n",
       "1  ...                  PROJECT   \n",
       "2  ...                  PROJECT   \n",
       "\n",
       "                           tags.mlflow.gitRepoURL  \\\n",
       "0  git@github.com:J-Pouzoulet/training_resnet.git   \n",
       "1  git@github.com:J-Pouzoulet/training_resnet.git   \n",
       "2  git@github.com:J-Pouzoulet/training_resnet.git   \n",
       "\n",
       "   tags.mlflow.project.backend  tags.mlflow.user  tags.mlflow.project.env  \\\n",
       "0                        local            jerome               virtualenv   \n",
       "1                        local            jerome               virtualenv   \n",
       "2                        local            jerome               virtualenv   \n",
       "\n",
       "   tags.mlflow.project.entryPoint  tags.mlflow.runName  \\\n",
       "0                            main   merciful-squid-306   \n",
       "1                            main       chill-hare-491   \n",
       "2                            main    bouncy-shrike-608   \n",
       "\n",
       "                       tags.mlflow.log-model.history  \\\n",
       "0  [{\"run_id\": \"49ecfd90cba74fc9801a6d7a89a85d09\"...   \n",
       "1  [{\"run_id\": \"84b0ec45ef6841b0b0c385171e011702\"...   \n",
       "2  [{\"run_id\": \"5f8c32e982a44593bcde9f722d86acaa\"...   \n",
       "\n",
       "                   tags.mlflow.source.git.repoURL  \\\n",
       "0  git@github.com:J-Pouzoulet/training_resnet.git   \n",
       "1  git@github.com:J-Pouzoulet/training_resnet.git   \n",
       "2  git@github.com:J-Pouzoulet/training_resnet.git   \n",
       "\n",
       "              tags.mlflow.source.git.commit  \n",
       "0  933e8320f7dc4e6fec468cd9436350df003bcf7a  \n",
       "1  933e8320f7dc4e6fec468cd9436350df003bcf7a  \n",
       "2  933e8320f7dc4e6fec468cd9436350df003bcf7a  \n",
       "\n",
       "[3 rows x 62 columns]"
      ]
     },
     "execution_count": 8,
     "metadata": {},
     "output_type": "execute_result"
    }
   ],
   "source": [
    "# we set the ID of the experiment we want to use\n",
    "experiment_id = \"2\"\n",
    "# We search for the runs in the experiment\n",
    "runs = mlflow.search_runs(experiment_ids=experiment_id)\n",
    "# We view the runs in the experiment (a pd.DataFrame)\n",
    "runs"
   ]
  },
  {
   "cell_type": "code",
   "execution_count": 9,
   "metadata": {},
   "outputs": [
    {
     "name": "stdout",
     "output_type": "stream",
     "text": [
      "run ID: run_id    49ecfd90cba74fc9801a6d7a89a85d09\n",
      "Name: 0, dtype: object\n",
      "Mlflow name: tags.mlflow.runName    merciful-squid-306\n",
      "Name: 0, dtype: object\n",
      "Artifact URI: artifact_uri    /home/jerome/code/J-Pouzoulet/training_resnet_...\n",
      "Name: 0, dtype: object\n",
      "------------------------------\n",
      "run ID: run_id    84b0ec45ef6841b0b0c385171e011702\n",
      "Name: 1, dtype: object\n",
      "Mlflow name: tags.mlflow.runName    chill-hare-491\n",
      "Name: 1, dtype: object\n",
      "Artifact URI: artifact_uri    /home/jerome/code/J-Pouzoulet/training_resnet_...\n",
      "Name: 1, dtype: object\n",
      "------------------------------\n",
      "run ID: run_id    5f8c32e982a44593bcde9f722d86acaa\n",
      "Name: 2, dtype: object\n",
      "Mlflow name: tags.mlflow.runName    bouncy-shrike-608\n",
      "Name: 2, dtype: object\n",
      "Artifact URI: artifact_uri    /home/jerome/code/J-Pouzoulet/training_resnet_...\n",
      "Name: 2, dtype: object\n",
      "------------------------------\n"
     ]
    }
   ],
   "source": [
    "runs = mlflow.search_runs(experiment_ids=experiment_id)\n",
    "\n",
    "# Print the experiment details\n",
    "for index in runs.index:\n",
    "    print(f\"run ID: {runs[['run_id']].iloc[index]}\")\n",
    "    print(f\"Mlflow name: {runs[['tags.mlflow.runName']].iloc[index]}\")\n",
    "    print(f\"Artifact URI: {runs[['artifact_uri']].iloc[index]}\")\n",
    "    print(\"------------------------------\")"
   ]
  },
  {
   "cell_type": "markdown",
   "metadata": {},
   "source": [
    "#### We will use here the first run of the experiment as an example (e.g. at the index 0).\n",
    "#### We need the run_id to load the model."
   ]
  },
  {
   "cell_type": "code",
   "execution_count": 10,
   "metadata": {},
   "outputs": [],
   "source": [
    "run_id = mlflow.search_runs(experiment_ids=experiment_id).iloc[0].run_id"
   ]
  },
  {
   "cell_type": "code",
   "execution_count": 11,
   "metadata": {},
   "outputs": [
    {
     "name": "stdout",
     "output_type": "stream",
     "text": [
      "The run ID is : 49ecfd90cba74fc9801a6d7a89a85d09\n"
     ]
    }
   ],
   "source": [
    "print(f\"The run ID is : {run_id}\")"
   ]
  },
  {
   "cell_type": "markdown",
   "metadata": {},
   "source": [
    "#### Now we can load the model from the run."
   ]
  },
  {
   "cell_type": "code",
   "execution_count": 13,
   "metadata": {},
   "outputs": [],
   "source": [
    "# Load the model from the MLflow run\n",
    "model_uri = f\"runs:/{run_id}/model\"  # replace with the actual run ID\n",
    "\n",
    "# Load the Keras model\n",
    "loaded_model = mlflow.keras.load_model(model_uri)"
   ]
  },
  {
   "cell_type": "markdown",
   "metadata": {},
   "source": [
    "# 4- Generate the test dataset"
   ]
  },
  {
   "cell_type": "markdown",
   "metadata": {},
   "source": [
    "#### We first need to get the name of the Resnet model from which our model was fine-tuned to propress the test dataset\n",
    "#### We can get this information from the MLflow run metadata. "
   ]
  },
  {
   "cell_type": "code",
   "execution_count": 14,
   "metadata": {},
   "outputs": [
    {
     "name": "stdout",
     "output_type": "stream",
     "text": [
      "Model name: ResNet50\n"
     ]
    }
   ],
   "source": [
    "# from MLFlow we call the parameters of the model and get the model_name (to be passed in the propressing function)\n",
    "params = mlflow.get_run(run_id).data.params\n",
    "model_name = params['model_name']\n",
    "print(f\"Model name: {model_name}\")"
   ]
  },
  {
   "cell_type": "markdown",
   "metadata": {},
   "source": [
    "#### We set the parameters to built the test dataset like we did for the training dataset\n",
    "#### We use a slighty different function to create the test dataset because we don't need to split the data\n",
    "#### Otherwise the pipeline is the same"
   ]
  },
  {
   "cell_type": "code",
   "execution_count": 15,
   "metadata": {},
   "outputs": [
    {
     "name": "stdout",
     "output_type": "stream",
     "text": [
      "Number of urls collected for vine: 1\n",
      "Number of urls collected for grass: 28\n",
      "Number of urls collected for ground: 23\n",
      "Dataframe created successfully with shape : (52, 4)\n",
      "Preprocess_input function for 'ResNet50' loaded successfully.\n"
     ]
    }
   ],
   "source": [
    "image_dir = \"media\"\n",
    "labels = [\"vine\", \"grass\", \"ground\"]\n",
    "start_date = \"2021-03-01\"\n",
    "end_date = \"2021-05-01\"\n",
    "\n",
    "# We make the train and validation datasets\n",
    "image_urls = get_image_urls_with_multiple_labels(labels, start_date, end_date, api_key, api_url)\n",
    "# Download images and create a sample map\n",
    "df_sample_map = create_sample_map(image_urls)\n",
    "df_sample_map = download_images(df_sample_map, image_dir)\n",
    "\n",
    "test_dataset = create_test_dataset(df_sample_map,\n",
    "                              image_dir = 'media',\n",
    "                              model_name = model_name,\n",
    "                              )"
   ]
  },
  {
   "cell_type": "markdown",
   "metadata": {},
   "source": [
    "# 5-  Evaluate the model on the test dataset"
   ]
  },
  {
   "cell_type": "markdown",
   "metadata": {},
   "source": [
    "#### Now we can evaluate the model on the test dataset\n",
    "#### The metrics displayed here are the ones that have been set while compiling the model before training"
   ]
  },
  {
   "cell_type": "code",
   "execution_count": 16,
   "metadata": {},
   "outputs": [
    {
     "name": "stdout",
     "output_type": "stream",
     "text": [
      "\u001b[1m11/11\u001b[0m \u001b[32m━━━━━━━━━━━━━━━━━━━━\u001b[0m\u001b[37m\u001b[0m \u001b[1m5s\u001b[0m 232ms/step - accuracy: 0.0520 - loss: 10.9764 - precision: 0.0520 - recall: 0.0520\n",
      "Test Loss: 12.354569435119629\n",
      "Test Accuracy: 0.01923076994717121\n",
      "Test Precision: 0.01923076994717121\n",
      "Test Recall: 0.01923076994717121\n"
     ]
    }
   ],
   "source": [
    "# Evaluate the model\n",
    "results = loaded_model.evaluate(test_dataset)\n",
    "\n",
    "print(f\"Test Loss: {results[0]}\")\n",
    "print(f\"Test Accuracy: {results[1]}\")\n",
    "print(f\"Test Precision: {results[2]}\")\n",
    "print(f\"Test Recall: {results[3]}\")"
   ]
  },
  {
   "cell_type": "code",
   "execution_count": null,
   "metadata": {},
   "outputs": [],
   "source": []
  }
 ],
 "metadata": {
  "kernelspec": {
   "display_name": "Python 3 (ipykernel)",
   "language": "python",
   "name": "python3"
  },
  "language_info": {
   "codemirror_mode": {
    "name": "ipython",
    "version": 3
   },
   "file_extension": ".py",
   "mimetype": "text/x-python",
   "name": "python",
   "nbconvert_exporter": "python",
   "pygments_lexer": "ipython3",
   "version": "3.9.17"
  }
 },
 "nbformat": 4,
 "nbformat_minor": 4
}
