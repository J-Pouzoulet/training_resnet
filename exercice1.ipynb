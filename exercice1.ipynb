{
 "cells": [
  {
   "cell_type": "markdown",
   "metadata": {},
   "source": [
    "# Importing packages"
   ]
  },
  {
   "cell_type": "code",
   "execution_count": 1,
   "metadata": {},
   "outputs": [
    {
     "name": "stderr",
     "output_type": "stream",
     "text": [
      "2024-12-21 17:19:54.243714: I tensorflow/core/util/port.cc:153] oneDNN custom operations are on. You may see slightly different numerical results due to floating-point round-off errors from different computation orders. To turn them off, set the environment variable `TF_ENABLE_ONEDNN_OPTS=0`.\n",
      "2024-12-21 17:19:54.244124: I external/local_xla/xla/tsl/cuda/cudart_stub.cc:32] Could not find cuda drivers on your machine, GPU will not be used.\n",
      "2024-12-21 17:19:54.247002: I external/local_xla/xla/tsl/cuda/cudart_stub.cc:32] Could not find cuda drivers on your machine, GPU will not be used.\n",
      "2024-12-21 17:19:54.253113: E external/local_xla/xla/stream_executor/cuda/cuda_fft.cc:477] Unable to register cuFFT factory: Attempting to register factory for plugin cuFFT when one has already been registered\n",
      "WARNING: All log messages before absl::InitializeLog() is called are written to STDERR\n",
      "E0000 00:00:1734797994.264312   21001 cuda_dnn.cc:8310] Unable to register cuDNN factory: Attempting to register factory for plugin cuDNN when one has already been registered\n",
      "E0000 00:00:1734797994.267473   21001 cuda_blas.cc:1418] Unable to register cuBLAS factory: Attempting to register factory for plugin cuBLAS when one has already been registered\n",
      "2024-12-21 17:19:54.279445: I tensorflow/core/platform/cpu_feature_guard.cc:210] This TensorFlow binary is optimized to use available CPU instructions in performance-critical operations.\n",
      "To enable the following instructions: AVX2 AVX_VNNI FMA, in other operations, rebuild TensorFlow with the appropriate compiler flags.\n"
     ]
    }
   ],
   "source": [
    "import requests\n",
    "#from keras.applications import ResNet50\n",
    "#from keras.applications.resnet import decode_predictions, preprocess_input\n",
    "from keras.preprocessing.image import load_img, img_to_array\n",
    "import numpy as np\n",
    "import os\n",
    "import sys\n",
    "from dotenv import load_dotenv\n",
    "import pandas as pd\n",
    "from sklearn.model_selection import train_test_split\n",
    "from datetime import datetime\n",
    "from helpers import *\n",
    "\n",
    "# Load environment variables from the secret.env file\n",
    "load_dotenv()\n",
    "\n",
    "# Access environment variables using os.getenv() or os.environ\n",
    "api_key = os.getenv(\"API_KEY\")\n",
    "api_url = os.getenv(\"API_URL\")"
   ]
  },
  {
   "cell_type": "code",
   "execution_count": 2,
   "metadata": {},
   "outputs": [
    {
     "name": "stdout",
     "output_type": "stream",
     "text": [
      "['InceptionResNetV2', 'ResNet101', 'ResNet101V2', 'ResNet152', 'ResNet152V2', 'ResNet50', 'ResNet50V2', 'inception_resnet_v2', 'resnet', 'resnet50', 'resnet_v2']\n"
     ]
    }
   ],
   "source": [
    "# We can check which models ResNet Models are available in keras\n",
    "available_models = [name for name in dir(tf.keras.applications) if 'resnet' in name.lower()]\n",
    "print(available_models)"
   ]
  },
  {
   "cell_type": "markdown",
   "metadata": {},
   "source": [
    "# <strong>Step 1:</strong> Get a trainable RestNet model"
   ]
  },
  {
   "cell_type": "markdown",
   "metadata": {},
   "source": [
    "### Parameter settings for trainable model compilation\n",
    "- We set the model name to be used\n",
    "- Can be 'ResNet101', 'ResNet101V2', 'ResNet152', 'ResNet152V2', 'ResNet50', 'ResNet50V2'\n",
    "- Run the cell to obtained a ResNet model ready to be trained"
   ]
  },
  {
   "cell_type": "code",
   "execution_count": 3,
   "metadata": {},
   "outputs": [
    {
     "name": "stdout",
     "output_type": "stream",
     "text": [
      "Model 'ResNet152V2' found in tf.keras.applications.\n"
     ]
    },
    {
     "name": "stderr",
     "output_type": "stream",
     "text": [
      "2024-12-21 17:19:56.614265: E external/local_xla/xla/stream_executor/cuda/cuda_driver.cc:152] failed call to cuInit: INTERNAL: CUDA error: Failed call to cuInit: UNKNOWN ERROR (303)\n"
     ]
    },
    {
     "name": "stdout",
     "output_type": "stream",
     "text": [
      "Base_model 'ResNet152V2' loaded successfully.\n",
      "New ResNet152V2 compiled successfully and is ready to be trained!\n"
     ]
    }
   ],
   "source": [
    "# Uncomment the model_name you want to use\n",
    "\n",
    "#model_name = \"ResNet50\" \n",
    "#model_name = \"ResNet50V2\" \n",
    "#model_name = \"ResNet101\" \n",
    "#model_name = \"ResNet101V2\" \n",
    "#model_name = \"ResNet152\" \n",
    "model_name = \"ResNet152V2\" \n",
    "\n",
    "# We load the model\n",
    "model = compile_new_model(model_name)\n",
    "\n",
    "# We display the model summary (optional)\n",
    "# model.summary()"
   ]
  },
  {
   "cell_type": "markdown",
   "metadata": {},
   "source": [
    "# <strong>Step 2:</strong> Build the training and validation dataset"
   ]
  },
  {
   "cell_type": "markdown",
   "metadata": {},
   "source": [
    "### Parameter settings for dataset collection\n",
    "- Set the start_date using \"YYYY-MM-DD\" format (ex: \"2020-08-01\")\n",
    "- Set the end_date using \"YYYY-MM-DD\" format (ex: \"2020-08-01\")\n",
    "- Set the tags as string or list (ex: tags = ['vine', 'grass', 'ground'] or tags = 'ground') \n",
    "- Run the cell to obtained the training and validation dataset "
   ]
  },
  {
   "cell_type": "code",
   "execution_count": 4,
   "metadata": {},
   "outputs": [
    {
     "name": "stdout",
     "output_type": "stream",
     "text": [
      "Number of urls collected for vine: 6\n",
      "Number of urls collected for grass: 1\n",
      "Number of urls collected for ground: 1\n"
     ]
    }
   ],
   "source": [
    "# We set the start date and end date for the training data\n",
    "start_date = \"2020-09-01\"\n",
    "end_date = \"2021-01-01\"\n",
    "\n",
    "# We set the tag (i.e. 'vine', 'grass' or 'ground') or the list of tags we want to train the model on (i.e ['vine', 'grass', 'ground'])\n",
    "tags = ['vine', 'grass', 'ground']\n",
    "\n",
    "# We collect the image urls for the selected tags and dates through the API\n",
    "image_urls = get_image_urls_with_multiple_tags(tags, start_date, end_date, api_key, api_url)"
   ]
  },
  {
   "cell_type": "code",
   "execution_count": 5,
   "metadata": {},
   "outputs": [
    {
     "name": "stdout",
     "output_type": "stream",
     "text": [
      "Number of urls collected for vine: 6\n",
      "Number of urls collected for grass: 1\n",
      "Number of urls collected for ground: 1\n",
      "Number of images found: 8\n",
      "Image Signature=03b0dc2e9d736b23918579a8fd214ab442a5cdcc downloaded successfully\n",
      "Image Signature=1d3347deb0808431ed35c3c0b63898888e128b1f downloaded successfully\n",
      "Image Signature=4f4759f79383a200d6d1a37112abfd932b2f38a3 downloaded successfully\n",
      "Image Signature=c8c7cb72feeca76f3c402d9eb74252b79a50255a downloaded successfully\n",
      "Image Signature=56c7f1f568f954a761f0d47021fe050deb72b236 downloaded successfully\n",
      "Image Signature=954b9de4fd9ff6d4a4580bd73c220dc6d623953a downloaded successfully\n",
      "Image Signature=dceb1ba7d0b6124b251534bfb895a270fa8114c8 downloaded successfully\n",
      "Image Signature=421a5e9860b37ed225d36cc263feb736bea39172 downloaded successfully\n",
      "Preprocess_input and encode_predictions function for 'ResNet152V2' loaded successfully.\n",
      "Training and validation datasets created successfully!\n"
     ]
    }
   ],
   "source": [
    "train_dataset, val_dataset = make_train_test_dataset_from_image_urls(model_name, tags, start_date, end_date, api_key, api_url)                                     "
   ]
  },
  {
   "cell_type": "code",
   "execution_count": 6,
   "metadata": {},
   "outputs": [
    {
     "ename": "NameError",
     "evalue": "name 'stop' is not defined",
     "output_type": "error",
     "traceback": [
      "\u001b[0;31m---------------------------------------------------------------------------\u001b[0m",
      "\u001b[0;31mNameError\u001b[0m                                 Traceback (most recent call last)",
      "Cell \u001b[0;32mIn[6], line 1\u001b[0m\n\u001b[0;32m----> 1\u001b[0m \u001b[43mstop\u001b[49m\n",
      "\u001b[0;31mNameError\u001b[0m: name 'stop' is not defined"
     ]
    }
   ],
   "source": [
    "stop"
   ]
  },
  {
   "cell_type": "code",
   "execution_count": 8,
   "metadata": {},
   "outputs": [
    {
     "name": "stdout",
     "output_type": "stream",
     "text": [
      "\u001b[1m1/1\u001b[0m \u001b[32m━━━━━━━━━━━━━━━━━━━━\u001b[0m\u001b[37m\u001b[0m \u001b[1m61s\u001b[0m 61s/step - accuracy: 0.1667 - loss: 1.4403 - val_accuracy: 1.0000 - val_loss: 5.9303e-05\n"
     ]
    }
   ],
   "source": [
    "# Train the model\n",
    "number_of_epochs = 1\n",
    "history = model.fit(train_dataset, validation_data=val_dataset, epochs=number_of_epochs)"
   ]
  },
  {
   "cell_type": "markdown",
   "metadata": {},
   "source": [
    "# Saving the model "
   ]
  },
  {
   "cell_type": "code",
   "execution_count": 9,
   "metadata": {},
   "outputs": [
    {
     "ename": "AttributeError",
     "evalue": "module 'datetime' has no attribute 'now'",
     "output_type": "error",
     "traceback": [
      "\u001b[0;31m---------------------------------------------------------------------------\u001b[0m",
      "\u001b[0;31mAttributeError\u001b[0m                            Traceback (most recent call last)",
      "Cell \u001b[0;32mIn[9], line 3\u001b[0m\n\u001b[1;32m      1\u001b[0m \u001b[38;5;28;01mimport\u001b[39;00m \u001b[38;5;21;01mdatetime\u001b[39;00m\n\u001b[0;32m----> 3\u001b[0m \u001b[43mdatetime\u001b[49m\u001b[38;5;241;43m.\u001b[39;49m\u001b[43mnow\u001b[49m()\n\u001b[1;32m      5\u001b[0m \u001b[38;5;66;03m# make a readible timestamp\u001b[39;00m\n\u001b[1;32m      6\u001b[0m datetime\u001b[38;5;241m.\u001b[39mnow()\u001b[38;5;241m.\u001b[39mstrftime(\u001b[38;5;124m\"\u001b[39m\u001b[38;5;124m%\u001b[39m\u001b[38;5;124mY\u001b[39m\u001b[38;5;124m%\u001b[39m\u001b[38;5;124mm\u001b[39m\u001b[38;5;132;01m%d\u001b[39;00m\u001b[38;5;124m-\u001b[39m\u001b[38;5;124m%\u001b[39m\u001b[38;5;124mH\u001b[39m\u001b[38;5;124m%\u001b[39m\u001b[38;5;124mM\u001b[39m\u001b[38;5;124m%\u001b[39m\u001b[38;5;124mS\u001b[39m\u001b[38;5;124m\"\u001b[39m)\n",
      "\u001b[0;31mAttributeError\u001b[0m: module 'datetime' has no attribute 'now'"
     ]
    }
   ],
   "source": [
    "from datetime import datetime\n",
    "\n",
    "datetime.now()\n",
    "\n",
    "# make a readible timestamp\n",
    "datetime.now().strftime(\"%Y%m%d-%H%M%S\")"
   ]
  },
  {
   "cell_type": "code",
   "execution_count": 8,
   "metadata": {},
   "outputs": [
    {
     "ename": "NameError",
     "evalue": "name 'model' is not defined",
     "output_type": "error",
     "traceback": [
      "\u001b[0;31m---------------------------------------------------------------------------\u001b[0m",
      "\u001b[0;31mNameError\u001b[0m                                 Traceback (most recent call last)",
      "Cell \u001b[0;32mIn[8], line 2\u001b[0m\n\u001b[1;32m      1\u001b[0m \u001b[38;5;66;03m# Save the trained model\u001b[39;00m\n\u001b[0;32m----> 2\u001b[0m \u001b[43mmodel\u001b[49m\u001b[38;5;241m.\u001b[39msave(\u001b[38;5;124mf\u001b[39m\u001b[38;5;124m\"\u001b[39m\u001b[38;5;124mmodel_archives/resnet_trained_model_\u001b[39m\u001b[38;5;132;01m{\u001b[39;00mdatetime\u001b[38;5;241m.\u001b[39mnow()\u001b[38;5;241m.\u001b[39mstrftime(\u001b[38;5;124m\"\u001b[39m\u001b[38;5;124m%\u001b[39m\u001b[38;5;124mY\u001b[39m\u001b[38;5;124m%\u001b[39m\u001b[38;5;124mm\u001b[39m\u001b[38;5;132;01m%d\u001b[39;00m\u001b[38;5;124m-\u001b[39m\u001b[38;5;124m%\u001b[39m\u001b[38;5;124mH\u001b[39m\u001b[38;5;124m%\u001b[39m\u001b[38;5;124mM\u001b[39m\u001b[38;5;124m%\u001b[39m\u001b[38;5;124mS\u001b[39m\u001b[38;5;124m\"\u001b[39m)\u001b[38;5;132;01m}\u001b[39;00m\u001b[38;5;124m\"\u001b[39m)\n",
      "\u001b[0;31mNameError\u001b[0m: name 'model' is not defined"
     ]
    }
   ],
   "source": [
    "# Save the trained model\n",
    "model.save(f\"model_archives/resnet_trained_model_{datetime.now().strftime(\"%Y%m%d-%H%M%S\")}\")"
   ]
  },
  {
   "cell_type": "code",
   "execution_count": null,
   "metadata": {},
   "outputs": [],
   "source": [
    "stop"
   ]
  },
  {
   "cell_type": "markdown",
   "metadata": {},
   "source": [
    "# Get timestamp"
   ]
  },
  {
   "cell_type": "code",
   "execution_count": null,
   "metadata": {},
   "outputs": [],
   "source": [
    "image_vine_timestamp = [i['timestamp'].split('T')[0] for i in image_urls_vines]\n",
    "image_ground_timestamp = [i['timestamp'].split('T')[0] for i in image_urls_vines]\n",
    "image_grass_timestamp = [i['timestamp'].split('T')[0] for i in image_urls_vines]\n",
    "\n",
    "image_grass_timestamp[:10]\n",
    "\n",
    "import pandas as pd\n",
    "\n",
    "# Create a DataFrame with the timestamps\n",
    "df_timestamps_vine = pd.DataFrame({'date': image_vine_timestamp})\n",
    "df_timestamps_vine['type'] = 'vine'                            \n",
    "df_timestamps_grass = pd.DataFrame({'date': image_grass_timestamp})\n",
    "df_timestamps_grass['type'] = 'grass'\n",
    "df_timestamps_ground = pd.DataFrame({'date': image_ground_timestamp})\n",
    "df_timestamps_ground['type'] = 'ground'\n",
    "df_timestamps = pd.concat([df_timestamps_vine, df_timestamps_grass, df_timestamps_ground])\n",
    "\n",
    "# Convert the timestamps to datetime objects\n",
    "df_timestamps['date'] = pd.to_datetime(df_timestamps['date'])\n",
    "\n",
    "# Group by Date and count unique classes\n",
    "unique_type_per_day = df_timestamps.groupby(['date', 'type'], as_index=False).agg(lambda x: x.shape[0])\n",
    "\n",
    "unique_type_per_day.columns = ['date', 'type', 'count']\n",
    "unique_type_per_day.plot(x='date', y='count', kind='bar', figsize=(15, 6))"
   ]
  }
 ],
 "metadata": {
  "kernelspec": {
   "display_name": "chouette_project",
   "language": "python",
   "name": "python3"
  },
  "language_info": {
   "codemirror_mode": {
    "name": "ipython",
    "version": 3
   },
   "file_extension": ".py",
   "mimetype": "text/x-python",
   "name": "python",
   "nbconvert_exporter": "python",
   "pygments_lexer": "ipython3",
   "version": "3.12.7"
  }
 },
 "nbformat": 4,
 "nbformat_minor": 2
}
