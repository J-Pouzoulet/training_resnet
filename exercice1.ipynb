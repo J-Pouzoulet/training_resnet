{
 "cells": [
  {
   "cell_type": "markdown",
   "metadata": {},
   "source": [
    "# Importing packages"
   ]
  },
  {
   "cell_type": "code",
   "execution_count": 1,
   "metadata": {},
   "outputs": [
    {
     "name": "stderr",
     "output_type": "stream",
     "text": [
      "2024-12-21 17:19:54.243714: I tensorflow/core/util/port.cc:153] oneDNN custom operations are on. You may see slightly different numerical results due to floating-point round-off errors from different computation orders. To turn them off, set the environment variable `TF_ENABLE_ONEDNN_OPTS=0`.\n",
      "2024-12-21 17:19:54.244124: I external/local_xla/xla/tsl/cuda/cudart_stub.cc:32] Could not find cuda drivers on your machine, GPU will not be used.\n",
      "2024-12-21 17:19:54.247002: I external/local_xla/xla/tsl/cuda/cudart_stub.cc:32] Could not find cuda drivers on your machine, GPU will not be used.\n",
      "2024-12-21 17:19:54.253113: E external/local_xla/xla/stream_executor/cuda/cuda_fft.cc:477] Unable to register cuFFT factory: Attempting to register factory for plugin cuFFT when one has already been registered\n",
      "WARNING: All log messages before absl::InitializeLog() is called are written to STDERR\n",
      "E0000 00:00:1734797994.264312   21001 cuda_dnn.cc:8310] Unable to register cuDNN factory: Attempting to register factory for plugin cuDNN when one has already been registered\n",
      "E0000 00:00:1734797994.267473   21001 cuda_blas.cc:1418] Unable to register cuBLAS factory: Attempting to register factory for plugin cuBLAS when one has already been registered\n",
      "2024-12-21 17:19:54.279445: I tensorflow/core/platform/cpu_feature_guard.cc:210] This TensorFlow binary is optimized to use available CPU instructions in performance-critical operations.\n",
      "To enable the following instructions: AVX2 AVX_VNNI FMA, in other operations, rebuild TensorFlow with the appropriate compiler flags.\n"
     ]
    }
   ],
   "source": [
    "import requests\n",
    "#from keras.applications import ResNet50\n",
    "#from keras.applications.resnet import decode_predictions, preprocess_input\n",
    "from keras.preprocessing.image import load_img, img_to_array\n",
    "import numpy as np\n",
    "import os\n",
    "import sys\n",
    "from dotenv import load_dotenv\n",
    "import pandas as pd\n",
    "from sklearn.model_selection import train_test_split\n",
    "from datetime import datetime\n",
    "from helpers import *\n",
    "\n",
    "# Load environment variables from the secret.env file\n",
    "load_dotenv()\n",
    "\n",
    "# Access environment variables using os.getenv() or os.environ\n",
    "api_key = os.getenv(\"API_KEY\")\n",
    "api_url = os.getenv(\"API_URL\")"
   ]
  },
  {
   "cell_type": "code",
   "execution_count": 2,
   "metadata": {},
   "outputs": [
    {
     "name": "stdout",
     "output_type": "stream",
     "text": [
      "['InceptionResNetV2', 'ResNet101', 'ResNet101V2', 'ResNet152', 'ResNet152V2', 'ResNet50', 'ResNet50V2', 'inception_resnet_v2', 'resnet', 'resnet50', 'resnet_v2']\n"
     ]
    }
   ],
   "source": [
    "# We can check which models ResNet Models are available in keras\n",
    "available_models = [name for name in dir(tf.keras.applications) if 'resnet' in name.lower()]\n",
    "print(available_models)"
   ]
  },
  {
   "cell_type": "markdown",
   "metadata": {},
   "source": [
    "# <strong>Step 1:</strong> Get a trainable RestNet model"
   ]
  },
  {
   "cell_type": "markdown",
   "metadata": {},
   "source": [
    "### Parameter settings for trainable model compilation\n",
    "- We set the model name to be used\n",
    "- Can be 'ResNet101', 'ResNet101V2', 'ResNet152', 'ResNet152V2', 'ResNet50', 'ResNet50V2'\n",
    "- Run the cell to obtained a ResNet model ready to be trained"
   ]
  },
  {
   "cell_type": "code",
   "execution_count": 3,
   "metadata": {},
   "outputs": [
    {
     "name": "stdout",
     "output_type": "stream",
     "text": [
      "Model 'ResNet152V2' found in tf.keras.applications.\n"
     ]
    },
    {
     "name": "stderr",
     "output_type": "stream",
     "text": [
      "2024-12-21 17:19:56.614265: E external/local_xla/xla/stream_executor/cuda/cuda_driver.cc:152] failed call to cuInit: INTERNAL: CUDA error: Failed call to cuInit: UNKNOWN ERROR (303)\n"
     ]
    },
    {
     "name": "stdout",
     "output_type": "stream",
     "text": [
      "Base_model 'ResNet152V2' loaded successfully.\n",
      "New ResNet152V2 compiled successfully and is ready to be trained!\n"
     ]
    }
   ],
   "source": [
    "# Uncomment the model_name you want to use\n",
    "\n",
    "#model_name = \"ResNet50\" \n",
    "#model_name = \"ResNet50V2\" \n",
    "#model_name = \"ResNet101\" \n",
    "#model_name = \"ResNet101V2\" \n",
    "#model_name = \"ResNet152\" \n",
    "model_name = \"ResNet152V2\" \n",
    "\n",
    "# We load the model\n",
    "model = compile_new_model(model_name)\n",
    "\n",
    "# We display the model summary (optional)\n",
    "# model.summary()"
   ]
  },
  {
   "cell_type": "markdown",
   "metadata": {},
   "source": [
    "# <strong>Step 2:</strong> Build the training and validation dataset"
   ]
  },
  {
   "cell_type": "markdown",
   "metadata": {},
   "source": [
    "### Parameter settings for dataset collection\n",
    "- Set the start_date using \"YYYY-MM-DD\" format (ex: \"2020-08-01\")\n",
    "- Set the end_date using \"YYYY-MM-DD\" format (ex: \"2020-08-01\")\n",
    "- Set the tags as string or list (ex: tags = ['vine', 'grass', 'ground'] or tags = 'ground') \n",
    "- Run the cell to obtained the training and validation dataset "
   ]
  },
  {
   "cell_type": "code",
   "execution_count": 4,
   "metadata": {},
   "outputs": [
    {
     "name": "stdout",
     "output_type": "stream",
     "text": [
      "Number of urls collected for vine: 6\n",
      "Number of urls collected for grass: 1\n",
      "Number of urls collected for ground: 1\n"
     ]
    }
   ],
   "source": [
    "# We set the start date and end date for the training data\n",
    "start_date = \"2020-09-01\"\n",
    "end_date = \"2021-01-01\"\n",
    "\n",
    "# We set the tag (i.e. 'vine', 'grass' or 'ground') or the list of tags we want to train the model on (i.e ['vine', 'grass', 'ground'])\n",
    "tags = ['vine', 'grass', 'ground']\n",
    "\n",
    "# We collect the image urls for the selected tags and dates through the API\n",
    "image_urls = get_image_urls_with_multiple_tags(tags, start_date, end_date, api_key, api_url)"
   ]
  },
  {
   "cell_type": "code",
   "execution_count": 5,
   "metadata": {},
   "outputs": [
    {
     "name": "stdout",
     "output_type": "stream",
     "text": [
      "Number of urls collected for vine: 6\n",
      "Number of urls collected for grass: 1\n",
      "Number of urls collected for ground: 1\n",
      "Number of images found: 8\n",
      "Image Signature=03b0dc2e9d736b23918579a8fd214ab442a5cdcc downloaded successfully\n",
      "Image Signature=1d3347deb0808431ed35c3c0b63898888e128b1f downloaded successfully\n",
      "Image Signature=4f4759f79383a200d6d1a37112abfd932b2f38a3 downloaded successfully\n",
      "Image Signature=c8c7cb72feeca76f3c402d9eb74252b79a50255a downloaded successfully\n",
      "Image Signature=56c7f1f568f954a761f0d47021fe050deb72b236 downloaded successfully\n",
      "Image Signature=954b9de4fd9ff6d4a4580bd73c220dc6d623953a downloaded successfully\n",
      "Image Signature=dceb1ba7d0b6124b251534bfb895a270fa8114c8 downloaded successfully\n",
      "Image Signature=421a5e9860b37ed225d36cc263feb736bea39172 downloaded successfully\n",
      "Preprocess_input and encode_predictions function for 'ResNet152V2' loaded successfully.\n",
      "Training and validation datasets created successfully!\n"
     ]
    }
   ],
   "source": [
    "train_dataset, val_dataset = make_train_test_dataset_from_image_urls(model_name, tags, start_date, end_date, api_key, api_url)                                     "
   ]
  },
  {
   "cell_type": "markdown",
   "metadata": {},
   "source": [
    "# <strong>Step 3:</strong> We train the model"
   ]
  },
  {
   "cell_type": "markdown",
   "metadata": {},
   "source": [
    "- Set the number of epoch  \n",
    "- Run the cell to train the model "
   ]
  },
  {
   "cell_type": "code",
   "execution_count": 9,
   "metadata": {},
   "outputs": [
    {
     "name": "stdout",
     "output_type": "stream",
     "text": [
      "\u001b[1m1/1\u001b[0m \u001b[32m━━━━━━━━━━━━━━━━━━━━\u001b[0m\u001b[37m\u001b[0m \u001b[1m3s\u001b[0m 3s/step - accuracy: 0.6667 - loss: 2.5545 - val_accuracy: 1.0000 - val_loss: 0.0000e+00\n"
     ]
    }
   ],
   "source": [
    "# Train the model\n",
    "number_of_epochs = 1\n",
    "history = model.fit(train_dataset, validation_data=val_dataset, epochs=number_of_epochs)"
   ]
  },
  {
   "cell_type": "markdown",
   "metadata": {},
   "source": [
    "# <strong>Step 4:</strong> We save the trained model"
   ]
  },
  {
   "cell_type": "markdown",
   "metadata": {},
   "source": [
    "- Run the cell to save the model "
   ]
  },
  {
   "cell_type": "code",
   "execution_count": 17,
   "metadata": {},
   "outputs": [],
   "source": [
    "# Save the trained model\n",
    "model.save(f\"model_archives/{model_name}_trained_model_{datetime.now().strftime(\"%Y%m%d-%H%M%S\")}.keras\")"
   ]
  },
  {
   "cell_type": "code",
   "execution_count": null,
   "metadata": {},
   "outputs": [],
   "source": [
    "# Load the trained model\n",
    "loaded_model = tf.keras.models.load_model(\"path_to_directory/resnet_trained_model\")\n",
    "\n",
    "# Verify it works\n",
    "loaded_model.summary()"
   ]
  },
  {
   "cell_type": "code",
   "execution_count": null,
   "metadata": {},
   "outputs": [],
   "source": [
    "# Define a checkpoint directory\n",
    "checkpoint_dir = \"path_to_directory/checkpoints\"\n",
    "checkpoint_prefix = f\"{checkpoint_dir}/ckpt\"\n",
    "\n",
    "# Create a callback to save model checkpoints\n",
    "checkpoint_callback = tf.keras.callbacks.ModelCheckpoint(\n",
    "    filepath=checkpoint_prefix,\n",
    "    save_weights_only=True,  # Saves only weights, not the full model\n",
    "    save_best_only=True,     # Saves the best model (based on validation loss)\n",
    "    monitor=\"val_loss\",      # Metric to monitor\n",
    "    verbose=1\n",
    ")\n",
    "\n",
    "# Train the model with the checkpoint callback\n",
    "history = model.fit(\n",
    "    train_dataset,\n",
    "    validation_data=val_dataset,\n",
    "    epochs=10,\n",
    "    callbacks=[checkpoint_callback]\n",
    ")\n"
   ]
  }
 ],
 "metadata": {
  "kernelspec": {
   "display_name": "chouette_project",
   "language": "python",
   "name": "python3"
  },
  "language_info": {
   "codemirror_mode": {
    "name": "ipython",
    "version": 3
   },
   "file_extension": ".py",
   "mimetype": "text/x-python",
   "name": "python",
   "nbconvert_exporter": "python",
   "pygments_lexer": "ipython3",
   "version": "3.12.7"
  }
 },
 "nbformat": 4,
 "nbformat_minor": 2
}
