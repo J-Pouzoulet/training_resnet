{
 "cells": [
  {
   "cell_type": "markdown",
   "metadata": {},
   "source": [
    "<div style=\"text-align: center;\">\n",
    "    <h1><strong>Training a Resnet Model</strong></h1>\n",
    "    <h1><strong>Azure posgresql Database & Azure Blob Storage</strong></h1>\n",
    "</div> "
   ]
  },
  {
   "cell_type": "markdown",
   "metadata": {},
   "source": [
    "# Goal of the notebook:\n",
    "#### The overarching goal of this notebook is to implement a pipeline for the custom training of <strong>Resnet models from the Keras library</strong> \n",
    "#### <strong>MLflow</strong> is implemented for the tracking of training experiments and the storage of results (i.e. runs parameters and artifacts)\n",
    "#### In this notebook, <strong>Azure Posgresql Database</strong> and <strong>Azure Blob Storage</strong> were used as storage solutions    "
   ]
  },
  {
   "cell_type": "markdown",
   "metadata": {},
   "source": [
    "# Summary:\n",
    "### 1- Import of Packages and Dependencies\n",
    "### 2- Import Environment Variables\n",
    "### 3- Set the parameters to get the resnet models and build the dataset\n",
    "### 4- Build the datasets\n",
    "### 5- Generate a trainable model\n",
    "### 6- We configure MLflow\n",
    "### 7- We run the training of the Model using an MLflow experiment "
   ]
  },
  {
   "cell_type": "markdown",
   "metadata": {},
   "source": [
    "# 1- Import of Packages and Dependencies"
   ]
  },
  {
   "cell_type": "code",
   "execution_count": 1,
   "metadata": {},
   "outputs": [
    {
     "name": "stderr",
     "output_type": "stream",
     "text": [
      "2025-01-02 16:07:13.200313: I tensorflow/core/util/port.cc:153] oneDNN custom operations are on. You may see slightly different numerical results due to floating-point round-off errors from different computation orders. To turn them off, set the environment variable `TF_ENABLE_ONEDNN_OPTS=0`.\n",
      "2025-01-02 16:07:13.209214: I external/local_xla/xla/tsl/cuda/cudart_stub.cc:32] Could not find cuda drivers on your machine, GPU will not be used.\n",
      "2025-01-02 16:07:13.319584: I external/local_xla/xla/tsl/cuda/cudart_stub.cc:32] Could not find cuda drivers on your machine, GPU will not be used.\n",
      "2025-01-02 16:07:13.398530: E external/local_xla/xla/stream_executor/cuda/cuda_fft.cc:477] Unable to register cuFFT factory: Attempting to register factory for plugin cuFFT when one has already been registered\n",
      "WARNING: All log messages before absl::InitializeLog() is called are written to STDERR\n",
      "E0000 00:00:1735830433.452856   27643 cuda_dnn.cc:8310] Unable to register cuDNN factory: Attempting to register factory for plugin cuDNN when one has already been registered\n",
      "E0000 00:00:1735830433.470867   27643 cuda_blas.cc:1418] Unable to register cuBLAS factory: Attempting to register factory for plugin cuBLAS when one has already been registered\n",
      "2025-01-02 16:07:13.635242: I tensorflow/core/platform/cpu_feature_guard.cc:210] This TensorFlow binary is optimized to use available CPU instructions in performance-critical operations.\n",
      "To enable the following instructions: AVX2 AVX_VNNI FMA, in other operations, rebuild TensorFlow with the appropriate compiler flags.\n"
     ]
    }
   ],
   "source": [
    "import os\n",
    "from dotenv import load_dotenv\n",
    "from datetime import datetime\n",
    "from utils.build_dataset import *\n",
    "from utils.build_model import *\n",
    "from datetime import datetime\n",
    "import mlflow\n",
    "from azure.storage.blob import BlobServiceClient\n",
    "import tempfile\n",
    "from tensorflow.keras.callbacks import ModelCheckpoint"
   ]
  },
  {
   "cell_type": "markdown",
   "metadata": {},
   "source": [
    "# 2- Import Environment Variables  "
   ]
  },
  {
   "cell_type": "code",
   "execution_count": 2,
   "metadata": {},
   "outputs": [],
   "source": [
    "# Load environment variables from the .env file\n",
    "load_dotenv()\n",
    "\n",
    "# Access environment variables using os.getenv() method\n",
    "# We need api_key and pai_url to connect to the API and get the data\n",
    "api_key = os.getenv(\"API_KEY\")\n",
    "api_url = os.getenv(\"API_URL\")\n",
    "\n",
    "# We need the follow variables to connect to the Azure Blob Storage\n",
    "container_name = os.getenv(\"AZURE_STORAGE_CONTAINER_NAME\")\n",
    "storage_account_name = os.getenv(\"AZURE_STORAGE_ACCOUNT_NAME\")\n",
    "connection_string = os.getenv(\"AZURE_STORAGE_CONNECTION_STRING\")\n",
    "\n",
    "# We need the follow variables to connect to the Azure Posgresql Database\n",
    "pghost = os.getenv(\"PGHOST\")\n",
    "pguser = os.getenv(\"PGUSER\")\n",
    "pgport = os.getenv(\"PGPORT\")\n",
    "pgdatabase = os.getenv(\"PGDATABASE\")\n",
    "pgpassword = os.getenv(\"PGPASSWORD\")"
   ]
  },
  {
   "cell_type": "markdown",
   "metadata": {},
   "source": [
    "# 3- Set the parameters to get the resnet model and build the dataset"
   ]
  },
  {
   "cell_type": "markdown",
   "metadata": {},
   "source": [
    "### Parameters settings for trainable model compilation\n",
    "- Please set the model name to be used\n",
    "- Can be 'ResNet101', 'ResNet101V2', 'ResNet152', 'ResNet152V2', 'ResNet50', 'ResNet50V2'\n",
    "- Run the cell to obtained a ResNet model ready to be trained"
   ]
  },
  {
   "cell_type": "code",
   "execution_count": 3,
   "metadata": {},
   "outputs": [],
   "source": [
    "# Uncomment the model_name you want to use\n",
    "\n",
    "model_name = \"ResNet50\" \n",
    "#model_name = \"ResNet50V2\" \n",
    "#model_name = \"ResNet101\" \n",
    "#model_name = \"ResNet101V2\" \n",
    "#model_name = \"ResNet152\" \n",
    "#model_name = \"ResNet152V2\" "
   ]
  },
  {
   "cell_type": "markdown",
   "metadata": {},
   "source": [
    "### Parameters settings for dataset collection\n",
    "- Set the start_date using \"YYYY-mm-DD\" format (ex: \"2020-08-01\")\n",
    "- Set the end_date using \"YYYY-mm-DD\" format (ex: \"2020-08-01\")\n",
    "- Set the labels as string or list (ex: labels = ['vine', 'grass', 'ground'] or labels = 'ground') "
   ]
  },
  {
   "cell_type": "code",
   "execution_count": 4,
   "metadata": {},
   "outputs": [],
   "source": [
    "# We set the start date and end date for the training data\n",
    "start_date = \"2021-05-27\"\n",
    "end_date = \"2021-06-01\"\n",
    "\n",
    "# We set the labels (i.e. 'vine', 'grass' or 'ground') or the list of labels we want to train the model on (i.e ['vine', 'grass', 'ground'])\n",
    "labels = ['vine', 'grass', 'ground']\n",
    "labels = 'vine'"
   ]
  },
  {
   "cell_type": "markdown",
   "metadata": {},
   "source": [
    "# 4- Build the datasets "
   ]
  },
  {
   "cell_type": "markdown",
   "metadata": {},
   "source": [
    "#### The train and validation datasets are created following 4 steps:\n",
    "##### 1- The urls of images are collected according to the parameters we have set (i.e. labels, start_date, end_date)\n",
    "##### 2- A data_frame is create in order to map data of the samples (df_sample_map)\n",
    "##### 3- From the df_sample_map, HTTP request are perform to collect images and stored them locally in the 'media' folder\n",
    "##### 4- The dataframe is saved locally to be exported latter on as an artifact\n",
    "##### 5- Train and validation datasets (usable in model input) are generated with respect to the Resnet model used (i.e. preprocessing)        "
   ]
  },
  {
   "cell_type": "code",
   "execution_count": 5,
   "metadata": {},
   "outputs": [
    {
     "name": "stdout",
     "output_type": "stream",
     "text": [
      "Number of urls collected for vine: 16\n",
      "Dataframe created successfully with shape : (16, 4)\n",
      "Preprocess_input function for 'ResNet50' loaded successfully.\n"
     ]
    },
    {
     "name": "stderr",
     "output_type": "stream",
     "text": [
      "2025-01-02 16:07:31.548913: E external/local_xla/xla/stream_executor/cuda/cuda_driver.cc:152] failed call to cuInit: INTERNAL: CUDA error: Failed call to cuInit: UNKNOWN ERROR (303)\n"
     ]
    }
   ],
   "source": [
    "# We collect the image urls for the labels and the dates\n",
    "image_urls = get_image_urls_with_multiple_labels(labels, start_date, end_date, api_key, api_url)\n",
    "\n",
    "# We create a dataframe with the image urls and the labels\n",
    "df_sample_map = create_sample_map(image_urls)\n",
    "\n",
    "# We download the images and save them in the media folder\n",
    "image_dir = 'media'\n",
    "df_sample_map = download_images(df_sample_map, image_dir)\n",
    "\n",
    "# we save the dataset as a .csv file\n",
    "df_sample_map.to_csv(\"dataset_csv.csv\")\n",
    "\n",
    "# We create the train and validation datasets for the given model\n",
    "train_dataset, val_dataset = create_train_val_datasets(df_sample_map,\n",
    "                              image_dir = 'media',\n",
    "                              model_name = model_name,\n",
    "                              )"
   ]
  },
  {
   "cell_type": "markdown",
   "metadata": {},
   "source": [
    "# 5- Generate a trainable model"
   ]
  },
  {
   "cell_type": "markdown",
   "metadata": {},
   "source": [
    "#### The strategy behind the compile_new_model function (from the built_model module) can be breakdown following these steps:\n",
    "##### 1- The import of the model is performed dynamically from the tf.keras.applications\n",
    "##### 2- The model weights are imported without the top_layers\n",
    "##### 3- Customs top layers are added with respect to the original architure and the use case (3 classes)\n",
    "##### 4- The new model is compile and return"
   ]
  },
  {
   "cell_type": "code",
   "execution_count": 6,
   "metadata": {},
   "outputs": [
    {
     "name": "stdout",
     "output_type": "stream",
     "text": [
      "Model 'ResNet50' found in tf.keras.applications.\n",
      "Base_model 'ResNet50' loaded successfully.\n",
      "New ResNet50 compiled successfully and is ready to be trained!\n"
     ]
    }
   ],
   "source": [
    "# We generate the trainable model\n",
    "model = compile_new_model(model_name)"
   ]
  },
  {
   "cell_type": "markdown",
   "metadata": {},
   "source": [
    "# 6- We configure MLflow"
   ]
  },
  {
   "cell_type": "code",
   "execution_count": 7,
   "metadata": {},
   "outputs": [
    {
     "name": "stdout",
     "output_type": "stream",
     "text": [
      "Experiment 'my_experiment_v2' already exists. Using the existing experiment.\n"
     ]
    }
   ],
   "source": [
    "# Construct the Azure Blob Storage URI for the collection of artifacts\n",
    "artifact_location = f\"wasbs://{container_name}@{storage_account_name}.blob.core.windows.net?\"\n",
    "\n",
    "# Construct the URI for the model and set the MLflow tracking URI\n",
    "tracking_uri=f\"postgresql://{pguser}:{pgpassword}@{pghost}:{pgport}/{pgdatabase}\"\n",
    "mlflow.set_tracking_uri(tracking_uri)\n",
    "\n",
    "# We instantiate the MLflow client for Azure Blob Storage\n",
    "blob_service_client = BlobServiceClient.from_connection_string(connection_string)\n",
    "\n",
    "# We set the experiment name\n",
    "experiment_name = \"my_experiment_v2\"\n",
    "\n",
    "# Attempt to get the experiment by name\n",
    "existing_experiment = mlflow.get_experiment_by_name(experiment_name)\n",
    "\n",
    "# We check if the experiment exists and create it if it doesn't\n",
    "if existing_experiment is None:\n",
    "    # If the experiment doesn't exist, create it\n",
    "    experiment_id = mlflow.create_experiment(\n",
    "        experiment_name,\n",
    "        artifact_location=artifact_location,\n",
    "        tags={\"version\": \"v1\", \"priority\": \"P1\"},\n",
    "    )\n",
    "    print(f\"Experiment '{experiment_name}' created.\")\n",
    "else:\n",
    "    # If the experiment exists, use the existing experiment\n",
    "    experiment_id = existing_experiment.experiment_id\n",
    "    print(f\"Experiment '{experiment_name}' already exists. Using the existing experiment.\")"
   ]
  },
  {
   "cell_type": "markdown",
   "metadata": {},
   "source": [
    "# 7- We run the training of the Model using an MLflow experiment "
   ]
  },
  {
   "cell_type": "code",
   "execution_count": 8,
   "metadata": {},
   "outputs": [],
   "source": [
    "temp_dir = 'temporary_model_dir'\n",
    "\n",
    "# We use a temporary directory for ModelCheckpoint\n",
    "with tempfile.TemporaryDirectory() as temp_dir:\n",
    "    checkpoint_filepath = f\"{temp_dir}/best_model.keras\""
   ]
  },
  {
   "cell_type": "code",
   "execution_count": 9,
   "metadata": {},
   "outputs": [],
   "source": [
    "# We define the ModelCheckpoint callback\n",
    "model_checkpoint = ModelCheckpoint(\n",
    "    filepath=checkpoint_filepath,  # Temporary location\n",
    "    monitor='val_loss',             # Metric to monitor\n",
    "    save_best_only=True,            # Save only the best model\n",
    "    save_weights_only=False,        # Save the entire model (architecture + weights)\n",
    "    mode='min',                     # 'min' for loss\n",
    "    verbose=1                       # Print saving information\n",
    ")"
   ]
  },
  {
   "cell_type": "code",
   "execution_count": 10,
   "metadata": {},
   "outputs": [
    {
     "name": "stderr",
     "output_type": "stream",
     "text": [
      "2025-01-02 16:07:34.701821: I tensorflow/core/framework/local_rendezvous.cc:405] Local rendezvous is aborting with status: OUT_OF_RANGE: End of sequence\n",
      "2025-01-02 16:07:34.935366: I tensorflow/core/framework/local_rendezvous.cc:405] Local rendezvous is aborting with status: OUT_OF_RANGE: End of sequence\n"
     ]
    },
    {
     "data": {
      "text/html": [
       "<pre style=\"white-space:pre;overflow-x:auto;line-height:normal;font-family:Menlo,'DejaVu Sans Mono',consolas,'Courier New',monospace\"></pre>\n"
      ],
      "text/plain": []
     },
     "metadata": {},
     "output_type": "display_data"
    },
    {
     "name": "stdout",
     "output_type": "stream",
     "text": [
      "Epoch 1/5\n",
      "\u001b[1m3/3\u001b[0m \u001b[32m━━━━━━━━━━━━━━━━━━━━\u001b[0m\u001b[37m\u001b[0m \u001b[1m0s\u001b[0m 677ms/step - accuracy: 0.3718 - loss: 0.9177 - precision: 0.4508 - recall: 0.3718          \n",
      "Epoch 1: val_loss improved from inf to 0.04145, saving model to /tmp/tmpdv4e3fxm/best_model.keras\n",
      "\u001b[1m3/3\u001b[0m \u001b[32m━━━━━━━━━━━━━━━━━━━━\u001b[0m\u001b[37m\u001b[0m \u001b[1m23s\u001b[0m 2s/step - accuracy: 0.4327 - loss: 0.8425 - precision: 0.5199 - recall: 0.4327 - val_accuracy: 1.0000 - val_loss: 0.0415 - val_precision: 1.0000 - val_recall: 1.0000\n",
      "Epoch 2/5\n",
      "\u001b[1m3/3\u001b[0m \u001b[32m━━━━━━━━━━━━━━━━━━━━\u001b[0m\u001b[37m\u001b[0m \u001b[1m0s\u001b[0m 625ms/step - accuracy: 1.0000 - loss: 0.0016 - precision: 1.0000 - recall: 1.0000\n",
      "Epoch 2: val_loss improved from 0.04145 to 0.00012, saving model to /tmp/tmpdv4e3fxm/best_model.keras\n",
      "\u001b[1m3/3\u001b[0m \u001b[32m━━━━━━━━━━━━━━━━━━━━\u001b[0m\u001b[37m\u001b[0m \u001b[1m3s\u001b[0m 1s/step - accuracy: 1.0000 - loss: 0.0015 - precision: 1.0000 - recall: 1.0000 - val_accuracy: 1.0000 - val_loss: 1.2285e-04 - val_precision: 1.0000 - val_recall: 1.0000\n",
      "Epoch 3/5\n",
      "\u001b[1m3/3\u001b[0m \u001b[32m━━━━━━━━━━━━━━━━━━━━\u001b[0m\u001b[37m\u001b[0m \u001b[1m0s\u001b[0m 595ms/step - accuracy: 1.0000 - loss: 2.6021e-05 - precision: 1.0000 - recall: 1.0000\n",
      "Epoch 3: val_loss improved from 0.00012 to 0.00008, saving model to /tmp/tmpdv4e3fxm/best_model.keras\n",
      "\u001b[1m3/3\u001b[0m \u001b[32m━━━━━━━━━━━━━━━━━━━━\u001b[0m\u001b[37m\u001b[0m \u001b[1m3s\u001b[0m 1s/step - accuracy: 1.0000 - loss: 2.5669e-05 - precision: 1.0000 - recall: 1.0000 - val_accuracy: 1.0000 - val_loss: 8.0026e-05 - val_precision: 1.0000 - val_recall: 1.0000\n",
      "Epoch 4/5\n",
      "\u001b[1m3/3\u001b[0m \u001b[32m━━━━━━━━━━━━━━━━━━━━\u001b[0m\u001b[37m\u001b[0m \u001b[1m0s\u001b[0m 591ms/step - accuracy: 1.0000 - loss: 2.5214e-06 - precision: 1.0000 - recall: 1.0000\n",
      "Epoch 4: val_loss improved from 0.00008 to 0.00005, saving model to /tmp/tmpdv4e3fxm/best_model.keras\n",
      "\u001b[1m3/3\u001b[0m \u001b[32m━━━━━━━━━━━━━━━━━━━━\u001b[0m\u001b[37m\u001b[0m \u001b[1m3s\u001b[0m 1s/step - accuracy: 1.0000 - loss: 2.3427e-06 - precision: 1.0000 - recall: 1.0000 - val_accuracy: 1.0000 - val_loss: 4.8755e-05 - val_precision: 1.0000 - val_recall: 1.0000\n",
      "Epoch 5/5\n",
      "\u001b[1m3/3\u001b[0m \u001b[32m━━━━━━━━━━━━━━━━━━━━\u001b[0m\u001b[37m\u001b[0m \u001b[1m0s\u001b[0m 579ms/step - accuracy: 1.0000 - loss: 1.1942e-06 - precision: 1.0000 - recall: 1.0000\n",
      "Epoch 5: val_loss improved from 0.00005 to 0.00001, saving model to /tmp/tmpdv4e3fxm/best_model.keras\n",
      "\u001b[1m3/3\u001b[0m \u001b[32m━━━━━━━━━━━━━━━━━━━━\u001b[0m\u001b[37m\u001b[0m \u001b[1m3s\u001b[0m 1s/step - accuracy: 1.0000 - loss: 1.4665e-06 - precision: 1.0000 - recall: 1.0000 - val_accuracy: 1.0000 - val_loss: 1.4782e-05 - val_precision: 1.0000 - val_recall: 1.0000\n"
     ]
    }
   ],
   "source": [
    "# We set the number of epochs\n",
    "number_of_epochs = 5\n",
    "\n",
    "# Start a new MLflow run\n",
    "with mlflow.start_run(experiment_id=experiment_id) as run:\n",
    "    \n",
    "    # Unable autologging for the model using the keras autolog to save the model using the .keras file format\n",
    "    mlflow.keras.autolog()\n",
    "    \n",
    "    # We train the model\n",
    "    history = model.fit(\n",
    "        train_dataset,\n",
    "        validation_data=val_dataset,\n",
    "        epochs=number_of_epochs,\n",
    "        callbacks=[model_checkpoint])\n",
    "\n",
    "    # Log other parameters    \n",
    "    mlflow.log_param(\"model_name\", model_name)\n",
    "    mlflow.log_param(\"labels\", labels)\n",
    "    mlflow.log_param(\"start_date\", start_date)\n",
    "    mlflow.log_param(\"end_date\", end_date)\n",
    "    # Log the dataset as artifact\n",
    "    mlflow.log_artifact(\"dataset_csv.csv\")"
   ]
  },
  {
   "cell_type": "code",
   "execution_count": 11,
   "metadata": {},
   "outputs": [
    {
     "ename": "",
     "evalue": "",
     "output_type": "error",
     "traceback": [
      "\u001b[1;31mThe Kernel crashed while executing code in the current cell or a previous cell. \n",
      "\u001b[1;31mPlease review the code in the cell(s) to identify a possible cause of the failure. \n",
      "\u001b[1;31mClick <a href='https://aka.ms/vscodeJupyterKernelCrash'>here</a> for more info. \n",
      "\u001b[1;31mView Jupyter <a href='command:jupyter.viewOutput'>log</a> for further details."
     ]
    }
   ],
   "source": [
    "# We end the run\n",
    "mlflow.end_run()"
   ]
  }
 ],
 "metadata": {
  "kernelspec": {
   "display_name": "resnet_project",
   "language": "python",
   "name": "python3"
  },
  "language_info": {
   "codemirror_mode": {
    "name": "ipython",
    "version": 3
   },
   "file_extension": ".py",
   "mimetype": "text/x-python",
   "name": "python",
   "nbconvert_exporter": "python",
   "pygments_lexer": "ipython3",
   "version": "3.9.17"
  }
 },
 "nbformat": 4,
 "nbformat_minor": 2
}
