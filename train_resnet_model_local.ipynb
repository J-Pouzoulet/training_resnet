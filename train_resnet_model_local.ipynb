{
 "cells": [
  {
   "cell_type": "markdown",
   "metadata": {},
   "source": [
    "<div style=\"text-align: center;\">\n",
    "    <h1><strong>Training a Resnet Model</strong></h1>\n",
    "    <h1><strong>Sqlite & Local Folder</strong></h1>\n",
    "</div> "
   ]
  },
  {
   "cell_type": "markdown",
   "metadata": {},
   "source": [
    "# Goal of the notebook:\n",
    "#### The overarching goal of this notebook is to implement a pipeline for the custom training of <strong>Resnet models from the Keras library</strong> \n",
    "#### <strong>MLflow</strong> is implemented for the tracking of training experiments and the storage of results (i.e. runs parameters and artifacts)\n",
    "#### In this notebook, <strong>Sqlite</strong> and a <strong>Local Folder</strong> were used as storage solutions    "
   ]
  },
  {
   "cell_type": "markdown",
   "metadata": {},
   "source": [
    "# Summary:\n",
    "### 1- Import of Packages and Dependencies\n",
    "### 2- Import Environment Variables\n",
    "### 3- Set the parameters to get the resnet models and build the dataset\n",
    "### 4- Build the datasets\n",
    "### 5- Generate a trainable model\n",
    "### 6- We configure MLflow\n",
    "### 7- We run the training of the Model using an MLflow experiment "
   ]
  },
  {
   "cell_type": "markdown",
   "metadata": {},
   "source": [
    "# 1- Import of Packages and Dependencies"
   ]
  },
  {
   "cell_type": "code",
   "execution_count": 16,
   "metadata": {},
   "outputs": [],
   "source": [
    "import os\n",
    "from dotenv import load_dotenv\n",
    "from datetime import datetime\n",
    "from utils.build_dataset import *\n",
    "from utils.build_model import *\n",
    "from datetime import datetime\n",
    "import mlflow\n",
    "from azure.storage.blob import BlobServiceClient\n",
    "import tempfile\n",
    "from tensorflow.keras.callbacks import ModelCheckpoint"
   ]
  },
  {
   "cell_type": "markdown",
   "metadata": {},
   "source": [
    "# 2- Import Environment Variables  "
   ]
  },
  {
   "cell_type": "code",
   "execution_count": 17,
   "metadata": {},
   "outputs": [],
   "source": [
    "# Load environment variables from the .env file\n",
    "load_dotenv()\n",
    "\n",
    "# Access environment variables using os.getenv() method\n",
    "# We need api_key and pai_url to connect to the API and get the data\n",
    "api_key = os.getenv(\"API_KEY\")\n",
    "api_url = os.getenv(\"API_URL\")"
   ]
  },
  {
   "cell_type": "markdown",
   "metadata": {},
   "source": [
    "# 3- Set the parameters to get the resnet model and build the dataset"
   ]
  },
  {
   "cell_type": "markdown",
   "metadata": {},
   "source": [
    "### Parameters settings for trainable model compilation\n",
    "- Please set the model name to be used\n",
    "- Can be 'ResNet101', 'ResNet101V2', 'ResNet152', 'ResNet152V2', 'ResNet50', 'ResNet50V2'\n",
    "- Run the cell to obtained a ResNet model ready to be trained"
   ]
  },
  {
   "cell_type": "code",
   "execution_count": 18,
   "metadata": {},
   "outputs": [],
   "source": [
    "# Uncomment the model_name you want to use\n",
    "\n",
    "model_name = \"ResNet50\" \n",
    "#model_name = \"ResNet50V2\" \n",
    "#model_name = \"ResNet101\" \n",
    "#model_name = \"ResNet101V2\" \n",
    "#model_name = \"ResNet152\" \n",
    "#model_name = \"ResNet152V2\" "
   ]
  },
  {
   "cell_type": "markdown",
   "metadata": {},
   "source": [
    "### Parameters settings for dataset collection\n",
    "- Set the start_date using \"YYYY-mm-DD\" format (ex: \"2020-08-01\")\n",
    "- Set the end_date using \"YYYY-mm-DD\" format (ex: \"2020-08-01\")\n",
    "- Set the labels as string or list (ex: labels = ['vine', 'grass', 'ground'] or labels = 'ground') "
   ]
  },
  {
   "cell_type": "code",
   "execution_count": 19,
   "metadata": {},
   "outputs": [],
   "source": [
    "# We set the start date and end date for the training data\n",
    "start_date = \"2021-05-27\"\n",
    "end_date = \"2021-06-01\"\n",
    "\n",
    "# We set the labels (i.e. 'vine', 'grass' or 'ground') or the list of labels we want to train the model on (i.e ['vine', 'grass', 'ground'])\n",
    "labels = ['vine', 'grass', 'ground']"
   ]
  },
  {
   "cell_type": "markdown",
   "metadata": {},
   "source": [
    "# 4- Build the datasets "
   ]
  },
  {
   "cell_type": "markdown",
   "metadata": {},
   "source": [
    "#### The train and validation datasets are created following 4 steps:\n",
    "##### 1- The urls of images are collected according to the parameters we have set (i.e. labels, start_date, end_date)\n",
    "##### 2- A data_frame is create in order to map data of the samples (df_sample_map)\n",
    "##### 3- From the df_sample_map, HTTP request are perform to collect images and stored them locally in the 'media' folder\n",
    "##### 4- The dataframe is saved locally to be exported latter on as an artifact\n",
    "##### 5- Train and validation datasets (usable in model input) are generated with respect to the Resnet model used (i.e. preprocessing)        "
   ]
  },
  {
   "cell_type": "code",
   "execution_count": null,
   "metadata": {},
   "outputs": [],
   "source": [
    "# We collect the image urls for the labels and the dates\n",
    "image_urls = get_image_urls_with_multiple_labels(labels, start_date, end_date, api_key, api_url)\n",
    "\n",
    "# We create a dataframe with the image urls and the labels\n",
    "df_sample_map = create_sample_map(image_urls)\n",
    "\n",
    "# We download the images and save them in the media folder\n",
    "image_dir = 'media'\n",
    "df_sample_map = download_images(df_sample_map, image_dir)\n",
    "\n",
    "# we save the dataset as a .csv file\n",
    "df_sample_map.to_csv(\"dataset_csv.csv\")\n",
    "\n",
    "# We create the train and validation datasets for the given model\n",
    "train_dataset, val_dataset = create_train_val_datasets(df_sample_map,\n",
    "                              image_dir = 'media',\n",
    "                              model_name = model_name,\n",
    "                              )"
   ]
  },
  {
   "cell_type": "code",
   "execution_count": null,
   "metadata": {},
   "outputs": [],
   "source": [
    "df_sample_map = pd.read_csv(\"dataset_csv.csv\")\n",
    "\n",
    "# We create the train and validation datasets for the given model\n",
    "train_dataset, val_dataset = create_train_val_datasets(df_sample_map,\n",
    "                              image_dir = 'media',\n",
    "                              model_name = model_name,\n",
    "                              )"
   ]
  },
  {
   "cell_type": "markdown",
   "metadata": {},
   "source": [
    "# 5- Generate a trainable model"
   ]
  },
  {
   "cell_type": "markdown",
   "metadata": {},
   "source": [
    "#### The strategy behind the compile_new_model function (from the built_model module) can be breakdown following these steps:\n",
    "##### 1- The import of the model is performed dynamically from the tf.keras.applications\n",
    "##### 2- The model weights are imported without the top layers\n",
    "##### 3- Customs top layers are added with respect to the original architure and the use case (3 classes)\n",
    "##### 4- The new model is compile and return"
   ]
  },
  {
   "cell_type": "code",
   "execution_count": null,
   "metadata": {},
   "outputs": [],
   "source": [
    "# We generate the trainable model\n",
    "model = compile_new_model(model_name)"
   ]
  },
  {
   "cell_type": "markdown",
   "metadata": {},
   "source": [
    "# 6- We configure MLflow"
   ]
  },
  {
   "cell_type": "code",
   "execution_count": null,
   "metadata": {},
   "outputs": [],
   "source": [
    "# Construct the URI for the model and set the MLflow tracking URI\n",
    "tracking_uri=f\"sqlite:///mlflow.db\"\n",
    "mlflow.set_tracking_uri(tracking_uri)\n",
    "\n",
    "# We set the experiment name\n",
    "experiment_name = \"my_experiment\"\n",
    "\n",
    "# Attempt to get the experiment by name\n",
    "existing_experiment = mlflow.get_experiment_by_name(experiment_name)\n",
    "\n",
    "# We check if the experiment exists and create it if it doesn't\n",
    "if existing_experiment is None:\n",
    "    # If the experiment doesn't exist, create it\n",
    "    experiment_id = mlflow.create_experiment(\n",
    "        experiment_name,\n",
    "        tags={\"version\": \"v1\", \"priority\": \"P1\"},\n",
    "    )\n",
    "    print(f\"Experiment '{experiment_name}' created.\")\n",
    "else:\n",
    "    # If the experiment exists, use the existing experiment\n",
    "    experiment_id = existing_experiment.experiment_id\n",
    "    print(f\"Experiment '{experiment_name}' already exists. Using the existing experiment.\")"
   ]
  },
  {
   "cell_type": "markdown",
   "metadata": {},
   "source": [
    "# 7- We run the training of the Model using an MLflow experiment "
   ]
  },
  {
   "cell_type": "code",
   "execution_count": 9,
   "metadata": {},
   "outputs": [],
   "source": [
    "temp_dir = 'temporary_model_dir'\n",
    "\n",
    "# We use a temporary directory for ModelCheckpoint\n",
    "with tempfile.TemporaryDirectory() as temp_dir:\n",
    "    checkpoint_filepath = f\"{temp_dir}/best_model.keras\""
   ]
  },
  {
   "cell_type": "code",
   "execution_count": 10,
   "metadata": {},
   "outputs": [],
   "source": [
    "# We define the ModelCheckpoint callback\n",
    "model_checkpoint = ModelCheckpoint(\n",
    "    filepath=checkpoint_filepath,  # Temporary location\n",
    "    monitor='val_loss',             # Metric to monitor\n",
    "    save_best_only=True,            # Save only the best model\n",
    "    save_weights_only=False,        # Save the entire model (architecture + weights)\n",
    "    mode='min',                     # 'min' for loss\n",
    "    verbose=1                       # Print saving information\n",
    ")"
   ]
  },
  {
   "cell_type": "code",
   "execution_count": null,
   "metadata": {},
   "outputs": [],
   "source": [
    "# We set the number of epochs\n",
    "number_of_epochs = 5\n",
    "\n",
    "# Start a new MLflow run\n",
    "with mlflow.start_run(experiment_id=experiment_id) as run:\n",
    "    \n",
    "    # Unable autologging for the model using the keras autolog to save the model using the .keras file format\n",
    "    mlflow.keras.autolog()\n",
    "    \n",
    "    # Log other parameters    \n",
    "    mlflow.log_param(\"model_name\", model_name)\n",
    "    mlflow.log_param(\"labels\", labels)\n",
    "    mlflow.log_param(\"start_date\", start_date)\n",
    "    mlflow.log_param(\"end_date\", end_date)\n",
    "    # Log the dataset as artifact\n",
    "    mlflow.log_artifact(\"dataset_csv.csv\")\n",
    "    \n",
    "    # We train the model\n",
    "    history = model.fit(\n",
    "        train_dataset,\n",
    "        validation_data=val_dataset,\n",
    "        epochs=number_of_epochs,\n",
    "        callbacks=[model_checkpoint])"
   ]
  },
  {
   "cell_type": "code",
   "execution_count": null,
   "metadata": {},
   "outputs": [],
   "source": [
    "# We end the run\n",
    "mlflow.end_run()"
   ]
  }
 ],
 "metadata": {
  "kernelspec": {
   "display_name": "resnet_project",
   "language": "python",
   "name": "python3"
  },
  "language_info": {
   "codemirror_mode": {
    "name": "ipython",
    "version": 3
   },
   "file_extension": ".py",
   "mimetype": "text/x-python",
   "name": "python",
   "nbconvert_exporter": "python",
   "pygments_lexer": "ipython3",
   "version": "3.9.17"
  }
 },
 "nbformat": 4,
 "nbformat_minor": 2
}
